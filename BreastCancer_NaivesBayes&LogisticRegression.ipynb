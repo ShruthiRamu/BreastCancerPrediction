{
  "nbformat": 4,
  "nbformat_minor": 0,
  "metadata": {
    "colab": {
      "name": "BreastCancer_NaivesBayes&LogisticRegression.ipynb",
      "provenance": []
    },
    "kernelspec": {
      "name": "python3",
      "display_name": "Python 3"
    },
    "language_info": {
      "name": "python"
    }
  },
  "cells": [
    {
      "cell_type": "code",
      "execution_count": 1,
      "metadata": {
        "id": "QWc4vVm73f-O"
      },
      "outputs": [],
      "source": [
        "import pandas as pd"
      ]
    },
    {
      "cell_type": "code",
      "source": [
        "df = pd.read_csv(\"bc.csv\")"
      ],
      "metadata": {
        "id": "v9RcMUw54Bpu"
      },
      "execution_count": 3,
      "outputs": []
    },
    {
      "cell_type": "code",
      "source": [
        "df.shape"
      ],
      "metadata": {
        "colab": {
          "base_uri": "https://localhost:8080/"
        },
        "id": "2Q0DTiDu4gkm",
        "outputId": "7488b00c-9b8d-4b3d-b1ac-27f4c692bcee"
      },
      "execution_count": 4,
      "outputs": [
        {
          "output_type": "execute_result",
          "data": {
            "text/plain": [
              "(699, 11)"
            ]
          },
          "metadata": {},
          "execution_count": 4
        }
      ]
    },
    {
      "cell_type": "code",
      "source": [
        "df.head()"
      ],
      "metadata": {
        "colab": {
          "base_uri": "https://localhost:8080/",
          "height": 204
        },
        "id": "74FWFO1-4kZ5",
        "outputId": "fcaa5ea9-e782-4200-8277-c6d03f230d2a"
      },
      "execution_count": 5,
      "outputs": [
        {
          "output_type": "execute_result",
          "data": {
            "text/plain": [
              "         0  1  2  3  4  5   6  7  8  9  10\n",
              "0  1000025  5  1  1  1  2   1  3  1  1   2\n",
              "1  1002945  5  4  4  5  7  10  3  2  1   2\n",
              "2  1015425  3  1  1  1  2   2  3  1  1   2\n",
              "3  1016277  6  8  8  1  3   4  3  7  1   2\n",
              "4  1017023  4  1  1  3  2   1  3  1  1   2"
            ],
            "text/html": [
              "\n",
              "  <div id=\"df-3e8edc65-be6c-4536-a0c3-d42c55e470d9\">\n",
              "    <div class=\"colab-df-container\">\n",
              "      <div>\n",
              "<style scoped>\n",
              "    .dataframe tbody tr th:only-of-type {\n",
              "        vertical-align: middle;\n",
              "    }\n",
              "\n",
              "    .dataframe tbody tr th {\n",
              "        vertical-align: top;\n",
              "    }\n",
              "\n",
              "    .dataframe thead th {\n",
              "        text-align: right;\n",
              "    }\n",
              "</style>\n",
              "<table border=\"1\" class=\"dataframe\">\n",
              "  <thead>\n",
              "    <tr style=\"text-align: right;\">\n",
              "      <th></th>\n",
              "      <th>0</th>\n",
              "      <th>1</th>\n",
              "      <th>2</th>\n",
              "      <th>3</th>\n",
              "      <th>4</th>\n",
              "      <th>5</th>\n",
              "      <th>6</th>\n",
              "      <th>7</th>\n",
              "      <th>8</th>\n",
              "      <th>9</th>\n",
              "      <th>10</th>\n",
              "    </tr>\n",
              "  </thead>\n",
              "  <tbody>\n",
              "    <tr>\n",
              "      <th>0</th>\n",
              "      <td>1000025</td>\n",
              "      <td>5</td>\n",
              "      <td>1</td>\n",
              "      <td>1</td>\n",
              "      <td>1</td>\n",
              "      <td>2</td>\n",
              "      <td>1</td>\n",
              "      <td>3</td>\n",
              "      <td>1</td>\n",
              "      <td>1</td>\n",
              "      <td>2</td>\n",
              "    </tr>\n",
              "    <tr>\n",
              "      <th>1</th>\n",
              "      <td>1002945</td>\n",
              "      <td>5</td>\n",
              "      <td>4</td>\n",
              "      <td>4</td>\n",
              "      <td>5</td>\n",
              "      <td>7</td>\n",
              "      <td>10</td>\n",
              "      <td>3</td>\n",
              "      <td>2</td>\n",
              "      <td>1</td>\n",
              "      <td>2</td>\n",
              "    </tr>\n",
              "    <tr>\n",
              "      <th>2</th>\n",
              "      <td>1015425</td>\n",
              "      <td>3</td>\n",
              "      <td>1</td>\n",
              "      <td>1</td>\n",
              "      <td>1</td>\n",
              "      <td>2</td>\n",
              "      <td>2</td>\n",
              "      <td>3</td>\n",
              "      <td>1</td>\n",
              "      <td>1</td>\n",
              "      <td>2</td>\n",
              "    </tr>\n",
              "    <tr>\n",
              "      <th>3</th>\n",
              "      <td>1016277</td>\n",
              "      <td>6</td>\n",
              "      <td>8</td>\n",
              "      <td>8</td>\n",
              "      <td>1</td>\n",
              "      <td>3</td>\n",
              "      <td>4</td>\n",
              "      <td>3</td>\n",
              "      <td>7</td>\n",
              "      <td>1</td>\n",
              "      <td>2</td>\n",
              "    </tr>\n",
              "    <tr>\n",
              "      <th>4</th>\n",
              "      <td>1017023</td>\n",
              "      <td>4</td>\n",
              "      <td>1</td>\n",
              "      <td>1</td>\n",
              "      <td>3</td>\n",
              "      <td>2</td>\n",
              "      <td>1</td>\n",
              "      <td>3</td>\n",
              "      <td>1</td>\n",
              "      <td>1</td>\n",
              "      <td>2</td>\n",
              "    </tr>\n",
              "  </tbody>\n",
              "</table>\n",
              "</div>\n",
              "      <button class=\"colab-df-convert\" onclick=\"convertToInteractive('df-3e8edc65-be6c-4536-a0c3-d42c55e470d9')\"\n",
              "              title=\"Convert this dataframe to an interactive table.\"\n",
              "              style=\"display:none;\">\n",
              "        \n",
              "  <svg xmlns=\"http://www.w3.org/2000/svg\" height=\"24px\"viewBox=\"0 0 24 24\"\n",
              "       width=\"24px\">\n",
              "    <path d=\"M0 0h24v24H0V0z\" fill=\"none\"/>\n",
              "    <path d=\"M18.56 5.44l.94 2.06.94-2.06 2.06-.94-2.06-.94-.94-2.06-.94 2.06-2.06.94zm-11 1L8.5 8.5l.94-2.06 2.06-.94-2.06-.94L8.5 2.5l-.94 2.06-2.06.94zm10 10l.94 2.06.94-2.06 2.06-.94-2.06-.94-.94-2.06-.94 2.06-2.06.94z\"/><path d=\"M17.41 7.96l-1.37-1.37c-.4-.4-.92-.59-1.43-.59-.52 0-1.04.2-1.43.59L10.3 9.45l-7.72 7.72c-.78.78-.78 2.05 0 2.83L4 21.41c.39.39.9.59 1.41.59.51 0 1.02-.2 1.41-.59l7.78-7.78 2.81-2.81c.8-.78.8-2.07 0-2.86zM5.41 20L4 18.59l7.72-7.72 1.47 1.35L5.41 20z\"/>\n",
              "  </svg>\n",
              "      </button>\n",
              "      \n",
              "  <style>\n",
              "    .colab-df-container {\n",
              "      display:flex;\n",
              "      flex-wrap:wrap;\n",
              "      gap: 12px;\n",
              "    }\n",
              "\n",
              "    .colab-df-convert {\n",
              "      background-color: #E8F0FE;\n",
              "      border: none;\n",
              "      border-radius: 50%;\n",
              "      cursor: pointer;\n",
              "      display: none;\n",
              "      fill: #1967D2;\n",
              "      height: 32px;\n",
              "      padding: 0 0 0 0;\n",
              "      width: 32px;\n",
              "    }\n",
              "\n",
              "    .colab-df-convert:hover {\n",
              "      background-color: #E2EBFA;\n",
              "      box-shadow: 0px 1px 2px rgba(60, 64, 67, 0.3), 0px 1px 3px 1px rgba(60, 64, 67, 0.15);\n",
              "      fill: #174EA6;\n",
              "    }\n",
              "\n",
              "    [theme=dark] .colab-df-convert {\n",
              "      background-color: #3B4455;\n",
              "      fill: #D2E3FC;\n",
              "    }\n",
              "\n",
              "    [theme=dark] .colab-df-convert:hover {\n",
              "      background-color: #434B5C;\n",
              "      box-shadow: 0px 1px 3px 1px rgba(0, 0, 0, 0.15);\n",
              "      filter: drop-shadow(0px 1px 2px rgba(0, 0, 0, 0.3));\n",
              "      fill: #FFFFFF;\n",
              "    }\n",
              "  </style>\n",
              "\n",
              "      <script>\n",
              "        const buttonEl =\n",
              "          document.querySelector('#df-3e8edc65-be6c-4536-a0c3-d42c55e470d9 button.colab-df-convert');\n",
              "        buttonEl.style.display =\n",
              "          google.colab.kernel.accessAllowed ? 'block' : 'none';\n",
              "\n",
              "        async function convertToInteractive(key) {\n",
              "          const element = document.querySelector('#df-3e8edc65-be6c-4536-a0c3-d42c55e470d9');\n",
              "          const dataTable =\n",
              "            await google.colab.kernel.invokeFunction('convertToInteractive',\n",
              "                                                     [key], {});\n",
              "          if (!dataTable) return;\n",
              "\n",
              "          const docLinkHtml = 'Like what you see? Visit the ' +\n",
              "            '<a target=\"_blank\" href=https://colab.research.google.com/notebooks/data_table.ipynb>data table notebook</a>'\n",
              "            + ' to learn more about interactive tables.';\n",
              "          element.innerHTML = '';\n",
              "          dataTable['output_type'] = 'display_data';\n",
              "          await google.colab.output.renderOutput(dataTable, element);\n",
              "          const docLink = document.createElement('div');\n",
              "          docLink.innerHTML = docLinkHtml;\n",
              "          element.appendChild(docLink);\n",
              "        }\n",
              "      </script>\n",
              "    </div>\n",
              "  </div>\n",
              "  "
            ]
          },
          "metadata": {},
          "execution_count": 5
        }
      ]
    },
    {
      "cell_type": "code",
      "source": [
        "df.columns"
      ],
      "metadata": {
        "colab": {
          "base_uri": "https://localhost:8080/"
        },
        "id": "fcCgFABa43pN",
        "outputId": "772dcc27-f341-45da-ffbc-6ba74f61384c"
      },
      "execution_count": 6,
      "outputs": [
        {
          "output_type": "execute_result",
          "data": {
            "text/plain": [
              "Index(['0', '1', '2', '3', '4', '5', '6', '7', '8', '9', '10'], dtype='object')"
            ]
          },
          "metadata": {},
          "execution_count": 6
        }
      ]
    },
    {
      "cell_type": "code",
      "source": [
        "df[['0','10']]"
      ],
      "metadata": {
        "colab": {
          "base_uri": "https://localhost:8080/",
          "height": 419
        },
        "id": "gUtTKgZkHjp-",
        "outputId": "bf52a14f-d8d2-47f7-fb05-259bb0565ef6"
      },
      "execution_count": 7,
      "outputs": [
        {
          "output_type": "execute_result",
          "data": {
            "text/plain": [
              "           0  10\n",
              "0    1000025   2\n",
              "1    1002945   2\n",
              "2    1015425   2\n",
              "3    1016277   2\n",
              "4    1017023   2\n",
              "..       ...  ..\n",
              "694   776715   2\n",
              "695   841769   2\n",
              "696   888820   4\n",
              "697   897471   4\n",
              "698   897471   4\n",
              "\n",
              "[699 rows x 2 columns]"
            ],
            "text/html": [
              "\n",
              "  <div id=\"df-eb9dc3e9-e85a-4bab-a233-7ee5c75b13c8\">\n",
              "    <div class=\"colab-df-container\">\n",
              "      <div>\n",
              "<style scoped>\n",
              "    .dataframe tbody tr th:only-of-type {\n",
              "        vertical-align: middle;\n",
              "    }\n",
              "\n",
              "    .dataframe tbody tr th {\n",
              "        vertical-align: top;\n",
              "    }\n",
              "\n",
              "    .dataframe thead th {\n",
              "        text-align: right;\n",
              "    }\n",
              "</style>\n",
              "<table border=\"1\" class=\"dataframe\">\n",
              "  <thead>\n",
              "    <tr style=\"text-align: right;\">\n",
              "      <th></th>\n",
              "      <th>0</th>\n",
              "      <th>10</th>\n",
              "    </tr>\n",
              "  </thead>\n",
              "  <tbody>\n",
              "    <tr>\n",
              "      <th>0</th>\n",
              "      <td>1000025</td>\n",
              "      <td>2</td>\n",
              "    </tr>\n",
              "    <tr>\n",
              "      <th>1</th>\n",
              "      <td>1002945</td>\n",
              "      <td>2</td>\n",
              "    </tr>\n",
              "    <tr>\n",
              "      <th>2</th>\n",
              "      <td>1015425</td>\n",
              "      <td>2</td>\n",
              "    </tr>\n",
              "    <tr>\n",
              "      <th>3</th>\n",
              "      <td>1016277</td>\n",
              "      <td>2</td>\n",
              "    </tr>\n",
              "    <tr>\n",
              "      <th>4</th>\n",
              "      <td>1017023</td>\n",
              "      <td>2</td>\n",
              "    </tr>\n",
              "    <tr>\n",
              "      <th>...</th>\n",
              "      <td>...</td>\n",
              "      <td>...</td>\n",
              "    </tr>\n",
              "    <tr>\n",
              "      <th>694</th>\n",
              "      <td>776715</td>\n",
              "      <td>2</td>\n",
              "    </tr>\n",
              "    <tr>\n",
              "      <th>695</th>\n",
              "      <td>841769</td>\n",
              "      <td>2</td>\n",
              "    </tr>\n",
              "    <tr>\n",
              "      <th>696</th>\n",
              "      <td>888820</td>\n",
              "      <td>4</td>\n",
              "    </tr>\n",
              "    <tr>\n",
              "      <th>697</th>\n",
              "      <td>897471</td>\n",
              "      <td>4</td>\n",
              "    </tr>\n",
              "    <tr>\n",
              "      <th>698</th>\n",
              "      <td>897471</td>\n",
              "      <td>4</td>\n",
              "    </tr>\n",
              "  </tbody>\n",
              "</table>\n",
              "<p>699 rows × 2 columns</p>\n",
              "</div>\n",
              "      <button class=\"colab-df-convert\" onclick=\"convertToInteractive('df-eb9dc3e9-e85a-4bab-a233-7ee5c75b13c8')\"\n",
              "              title=\"Convert this dataframe to an interactive table.\"\n",
              "              style=\"display:none;\">\n",
              "        \n",
              "  <svg xmlns=\"http://www.w3.org/2000/svg\" height=\"24px\"viewBox=\"0 0 24 24\"\n",
              "       width=\"24px\">\n",
              "    <path d=\"M0 0h24v24H0V0z\" fill=\"none\"/>\n",
              "    <path d=\"M18.56 5.44l.94 2.06.94-2.06 2.06-.94-2.06-.94-.94-2.06-.94 2.06-2.06.94zm-11 1L8.5 8.5l.94-2.06 2.06-.94-2.06-.94L8.5 2.5l-.94 2.06-2.06.94zm10 10l.94 2.06.94-2.06 2.06-.94-2.06-.94-.94-2.06-.94 2.06-2.06.94z\"/><path d=\"M17.41 7.96l-1.37-1.37c-.4-.4-.92-.59-1.43-.59-.52 0-1.04.2-1.43.59L10.3 9.45l-7.72 7.72c-.78.78-.78 2.05 0 2.83L4 21.41c.39.39.9.59 1.41.59.51 0 1.02-.2 1.41-.59l7.78-7.78 2.81-2.81c.8-.78.8-2.07 0-2.86zM5.41 20L4 18.59l7.72-7.72 1.47 1.35L5.41 20z\"/>\n",
              "  </svg>\n",
              "      </button>\n",
              "      \n",
              "  <style>\n",
              "    .colab-df-container {\n",
              "      display:flex;\n",
              "      flex-wrap:wrap;\n",
              "      gap: 12px;\n",
              "    }\n",
              "\n",
              "    .colab-df-convert {\n",
              "      background-color: #E8F0FE;\n",
              "      border: none;\n",
              "      border-radius: 50%;\n",
              "      cursor: pointer;\n",
              "      display: none;\n",
              "      fill: #1967D2;\n",
              "      height: 32px;\n",
              "      padding: 0 0 0 0;\n",
              "      width: 32px;\n",
              "    }\n",
              "\n",
              "    .colab-df-convert:hover {\n",
              "      background-color: #E2EBFA;\n",
              "      box-shadow: 0px 1px 2px rgba(60, 64, 67, 0.3), 0px 1px 3px 1px rgba(60, 64, 67, 0.15);\n",
              "      fill: #174EA6;\n",
              "    }\n",
              "\n",
              "    [theme=dark] .colab-df-convert {\n",
              "      background-color: #3B4455;\n",
              "      fill: #D2E3FC;\n",
              "    }\n",
              "\n",
              "    [theme=dark] .colab-df-convert:hover {\n",
              "      background-color: #434B5C;\n",
              "      box-shadow: 0px 1px 3px 1px rgba(0, 0, 0, 0.15);\n",
              "      filter: drop-shadow(0px 1px 2px rgba(0, 0, 0, 0.3));\n",
              "      fill: #FFFFFF;\n",
              "    }\n",
              "  </style>\n",
              "\n",
              "      <script>\n",
              "        const buttonEl =\n",
              "          document.querySelector('#df-eb9dc3e9-e85a-4bab-a233-7ee5c75b13c8 button.colab-df-convert');\n",
              "        buttonEl.style.display =\n",
              "          google.colab.kernel.accessAllowed ? 'block' : 'none';\n",
              "\n",
              "        async function convertToInteractive(key) {\n",
              "          const element = document.querySelector('#df-eb9dc3e9-e85a-4bab-a233-7ee5c75b13c8');\n",
              "          const dataTable =\n",
              "            await google.colab.kernel.invokeFunction('convertToInteractive',\n",
              "                                                     [key], {});\n",
              "          if (!dataTable) return;\n",
              "\n",
              "          const docLinkHtml = 'Like what you see? Visit the ' +\n",
              "            '<a target=\"_blank\" href=https://colab.research.google.com/notebooks/data_table.ipynb>data table notebook</a>'\n",
              "            + ' to learn more about interactive tables.';\n",
              "          element.innerHTML = '';\n",
              "          dataTable['output_type'] = 'display_data';\n",
              "          await google.colab.output.renderOutput(dataTable, element);\n",
              "          const docLink = document.createElement('div');\n",
              "          docLink.innerHTML = docLinkHtml;\n",
              "          element.appendChild(docLink);\n",
              "        }\n",
              "      </script>\n",
              "    </div>\n",
              "  </div>\n",
              "  "
            ]
          },
          "metadata": {},
          "execution_count": 7
        }
      ]
    },
    {
      "cell_type": "code",
      "source": [
        "# Checking if any of the data is missing\n",
        "df.isna().any().sum()"
      ],
      "metadata": {
        "colab": {
          "base_uri": "https://localhost:8080/"
        },
        "id": "nLMObhQ8IDxD",
        "outputId": "77f619c9-d987-43c2-c05d-d45355020455"
      },
      "execution_count": 8,
      "outputs": [
        {
          "output_type": "execute_result",
          "data": {
            "text/plain": [
              "0"
            ]
          },
          "metadata": {},
          "execution_count": 8
        }
      ]
    },
    {
      "cell_type": "code",
      "source": [
        "# Checking the data type of all columns\n",
        "print(df.dtypes)"
      ],
      "metadata": {
        "colab": {
          "base_uri": "https://localhost:8080/"
        },
        "id": "unM1YuC_OaaU",
        "outputId": "e66fb2da-24b3-4791-df0f-047a6b9990f7"
      },
      "execution_count": 9,
      "outputs": [
        {
          "output_type": "stream",
          "name": "stdout",
          "text": [
            "0      int64\n",
            "1      int64\n",
            "2      int64\n",
            "3      int64\n",
            "4      int64\n",
            "5      int64\n",
            "6     object\n",
            "7      int64\n",
            "8      int64\n",
            "9      int64\n",
            "10     int64\n",
            "dtype: object\n"
          ]
        }
      ]
    },
    {
      "cell_type": "code",
      "source": [
        "import seaborn as sns\n",
        "import matplotlib.pyplot as plt"
      ],
      "metadata": {
        "id": "D9Uye9k0IyRm"
      },
      "execution_count": 10,
      "outputs": []
    },
    {
      "cell_type": "code",
      "source": [
        "sns.countplot(data=df, x='10')"
      ],
      "metadata": {
        "colab": {
          "base_uri": "https://localhost:8080/",
          "height": 296
        },
        "id": "DXrgAp4KQKsT",
        "outputId": "62438b32-6baf-425f-8d0a-e670eb3e4578"
      },
      "execution_count": 11,
      "outputs": [
        {
          "output_type": "execute_result",
          "data": {
            "text/plain": [
              "<matplotlib.axes._subplots.AxesSubplot at 0x7f74573c68d0>"
            ]
          },
          "metadata": {},
          "execution_count": 11
        },
        {
          "output_type": "display_data",
          "data": {
            "text/plain": [
              "<Figure size 432x288 with 1 Axes>"
            ],
            "image/png": "[encoded data removed]"
          },
          "metadata": {
            "needs_background": "light"
          }
        }
      ]
    },
    {
      "cell_type": "code",
      "source": [
        "# Checking the data for column 6\n",
        "sns.countplot(data=df , x='6')\n",
        "plt.show()"
      ],
      "metadata": {
        "colab": {
          "base_uri": "https://localhost:8080/",
          "height": 279
        },
        "id": "8q0jcghERIg9",
        "outputId": "cedfe863-d815-4c27-abef-f591b4b85700"
      },
      "execution_count": 12,
      "outputs": [
        {
          "output_type": "display_data",
          "data": {
            "text/plain": [
              "<Figure size 432x288 with 1 Axes>"
            ],
            "image/png": "[encoded data removed]"
          },
          "metadata": {
            "needs_background": "light"
          }
        }
      ]
    },
    {
      "cell_type": "code",
      "source": [
        "# Dropping the row that contains '?' in the data\n",
        "df = df[df['6'] != '?']"
      ],
      "metadata": {
        "id": "0zMMSEiVWMw5"
      },
      "execution_count": 13,
      "outputs": []
    },
    {
      "cell_type": "code",
      "source": [
        "# Converting the data type of column 6 to integer\n",
        "df['6'] = df['6'].astype(int)"
      ],
      "metadata": {
        "id": "BWe93JDMXpSW"
      },
      "execution_count": 14,
      "outputs": []
    },
    {
      "cell_type": "code",
      "source": [
        "print(df.dtypes)"
      ],
      "metadata": {
        "colab": {
          "base_uri": "https://localhost:8080/"
        },
        "id": "6YU9IFujXtB_",
        "outputId": "6e00a304-750f-4b2e-f89e-610f11bcd8b7"
      },
      "execution_count": 15,
      "outputs": [
        {
          "output_type": "stream",
          "name": "stdout",
          "text": [
            "0     int64\n",
            "1     int64\n",
            "2     int64\n",
            "3     int64\n",
            "4     int64\n",
            "5     int64\n",
            "6     int64\n",
            "7     int64\n",
            "8     int64\n",
            "9     int64\n",
            "10    int64\n",
            "dtype: object\n"
          ]
        }
      ]
    },
    {
      "cell_type": "code",
      "source": [
        "# Finding the correlation between the attributes\n",
        "df.corr().style.background_gradient(cmap=\"Blues\")"
      ],
      "metadata": {
        "colab": {
          "base_uri": "https://localhost:8080/",
          "height": 390
        },
        "id": "4MA56jtsdXDH",
        "outputId": "7d42f79f-f5a1-4e48-f97b-2ef5beda9537"
      },
      "execution_count": 16,
      "outputs": [
        {
          "output_type": "execute_result",
          "data": {
            "text/plain": [
              "<pandas.io.formats.style.Styler at 0x7f7456e01910>"
            ],
            "text/html": [
              "<style type=\"text/css\">\n",
              "#T_caf19_row0_col0, #T_caf19_row1_col1, #T_caf19_row2_col2, #T_caf19_row3_col3, #T_caf19_row4_col4, #T_caf19_row5_col5, #T_caf19_row6_col6, #T_caf19_row7_col7, #T_caf19_row8_col8, #T_caf19_row9_col9, #T_caf19_row10_col10 {\n",
              "  background-color: #08306b;\n",
              "  color: #f1f1f1;\n",
              "}\n",
              "#T_caf19_row0_col1, #T_caf19_row0_col2, #T_caf19_row0_col3, #T_caf19_row0_col4, #T_caf19_row0_col5, #T_caf19_row0_col6, #T_caf19_row0_col7, #T_caf19_row0_col8, #T_caf19_row0_col9, #T_caf19_row0_col10, #T_caf19_row6_col0 {\n",
              "  background-color: #f7fbff;\n",
              "  color: #000000;\n",
              "}\n",
              "#T_caf19_row1_col0 {\n",
              "  background-color: #f0f6fd;\n",
              "  color: #000000;\n",
              "}\n",
              "#T_caf19_row1_col2 {\n",
              "  background-color: #3989c1;\n",
              "  color: #f1f1f1;\n",
              "}\n",
              "#T_caf19_row1_col3 {\n",
              "  background-color: #3787c0;\n",
              "  color: #f1f1f1;\n",
              "}\n",
              "#T_caf19_row1_col4 {\n",
              "  background-color: #64a9d3;\n",
              "  color: #f1f1f1;\n",
              "}\n",
              "#T_caf19_row1_col5 {\n",
              "  background-color: #5ca4d0;\n",
              "  color: #f1f1f1;\n",
              "}\n",
              "#T_caf19_row1_col6, #T_caf19_row8_col4 {\n",
              "  background-color: #4090c5;\n",
              "  color: #f1f1f1;\n",
              "}\n",
              "#T_caf19_row1_col7 {\n",
              "  background-color: #519ccc;\n",
              "  color: #f1f1f1;\n",
              "}\n",
              "#T_caf19_row1_col8 {\n",
              "  background-color: #58a1cf;\n",
              "  color: #f1f1f1;\n",
              "}\n",
              "#T_caf19_row1_col9 {\n",
              "  background-color: #9fcae1;\n",
              "  color: #000000;\n",
              "}\n",
              "#T_caf19_row1_col10, #T_caf19_row3_col5 {\n",
              "  background-color: #2474b7;\n",
              "  color: #f1f1f1;\n",
              "}\n",
              "#T_caf19_row2_col0, #T_caf19_row3_col0 {\n",
              "  background-color: #edf4fc;\n",
              "  color: #000000;\n",
              "}\n",
              "#T_caf19_row2_col1 {\n",
              "  background-color: #3888c1;\n",
              "  color: #f1f1f1;\n",
              "}\n",
              "#T_caf19_row2_col3, #T_caf19_row3_col2 {\n",
              "  background-color: #08478d;\n",
              "  color: #f1f1f1;\n",
              "}\n",
              "#T_caf19_row2_col4, #T_caf19_row6_col3, #T_caf19_row10_col4 {\n",
              "  background-color: #2777b8;\n",
              "  color: #f1f1f1;\n",
              "}\n",
              "#T_caf19_row2_col5, #T_caf19_row5_col2, #T_caf19_row7_col2 {\n",
              "  background-color: #1e6db2;\n",
              "  color: #f1f1f1;\n",
              "}\n",
              "#T_caf19_row2_col6 {\n",
              "  background-color: #2979b9;\n",
              "  color: #f1f1f1;\n",
              "}\n",
              "#T_caf19_row2_col7, #T_caf19_row10_col7 {\n",
              "  background-color: #1c6bb0;\n",
              "  color: #f1f1f1;\n",
              "}\n",
              "#T_caf19_row2_col8, #T_caf19_row3_col8, #T_caf19_row5_col3, #T_caf19_row8_col2, #T_caf19_row10_col8 {\n",
              "  background-color: #2575b7;\n",
              "  color: #f1f1f1;\n",
              "}\n",
              "#T_caf19_row2_col9, #T_caf19_row9_col2 {\n",
              "  background-color: #72b2d8;\n",
              "  color: #f1f1f1;\n",
              "}\n",
              "#T_caf19_row2_col10, #T_caf19_row3_col10 {\n",
              "  background-color: #105ba4;\n",
              "  color: #f1f1f1;\n",
              "}\n",
              "#T_caf19_row3_col1 {\n",
              "  background-color: #3585bf;\n",
              "  color: #f1f1f1;\n",
              "}\n",
              "#T_caf19_row3_col4, #T_caf19_row6_col2, #T_caf19_row10_col5 {\n",
              "  background-color: #2d7dbb;\n",
              "  color: #f1f1f1;\n",
              "}\n",
              "#T_caf19_row3_col6, #T_caf19_row8_col10 {\n",
              "  background-color: #2373b6;\n",
              "  color: #f1f1f1;\n",
              "}\n",
              "#T_caf19_row3_col7 {\n",
              "  background-color: #2070b4;\n",
              "  color: #f1f1f1;\n",
              "}\n",
              "#T_caf19_row3_col9, #T_caf19_row9_col3, #T_caf19_row9_col8 {\n",
              "  background-color: #7ab6d9;\n",
              "  color: #000000;\n",
              "}\n",
              "#T_caf19_row4_col0 {\n",
              "  background-color: #f2f8fd;\n",
              "  color: #000000;\n",
              "}\n",
              "#T_caf19_row4_col1 {\n",
              "  background-color: #66abd4;\n",
              "  color: #f1f1f1;\n",
              "}\n",
              "#T_caf19_row4_col2, #T_caf19_row5_col10 {\n",
              "  background-color: #2a7ab9;\n",
              "  color: #f1f1f1;\n",
              "}\n",
              "#T_caf19_row4_col3 {\n",
              "  background-color: #2f7fbc;\n",
              "  color: #f1f1f1;\n",
              "}\n",
              "#T_caf19_row4_col5, #T_caf19_row6_col1 {\n",
              "  background-color: #4594c7;\n",
              "  color: #f1f1f1;\n",
              "}\n",
              "#T_caf19_row4_col6, #T_caf19_row6_col7 {\n",
              "  background-color: #2e7ebc;\n",
              "  color: #f1f1f1;\n",
              "}\n",
              "#T_caf19_row4_col7, #T_caf19_row7_col4 {\n",
              "  background-color: #3181bd;\n",
              "  color: #f1f1f1;\n",
              "}\n",
              "#T_caf19_row4_col8, #T_caf19_row5_col6, #T_caf19_row8_col6 {\n",
              "  background-color: #4292c6;\n",
              "  color: #f1f1f1;\n",
              "}\n",
              "#T_caf19_row4_col9 {\n",
              "  background-color: #84bcdb;\n",
              "  color: #000000;\n",
              "}\n",
              "#T_caf19_row4_col10, #T_caf19_row8_col3, #T_caf19_row10_col1 {\n",
              "  background-color: #2676b8;\n",
              "  color: #f1f1f1;\n",
              "}\n",
              "#T_caf19_row5_col0, #T_caf19_row8_col0 {\n",
              "  background-color: #eef5fc;\n",
              "  color: #000000;\n",
              "}\n",
              "#T_caf19_row5_col1 {\n",
              "  background-color: #5ba3d0;\n",
              "  color: #f1f1f1;\n",
              "}\n",
              "#T_caf19_row5_col4 {\n",
              "  background-color: #4493c7;\n",
              "  color: #f1f1f1;\n",
              "}\n",
              "#T_caf19_row5_col7 {\n",
              "  background-color: #3e8ec4;\n",
              "  color: #f1f1f1;\n",
              "}\n",
              "#T_caf19_row5_col8, #T_caf19_row8_col5 {\n",
              "  background-color: #3c8cc3;\n",
              "  color: #f1f1f1;\n",
              "}\n",
              "#T_caf19_row5_col9 {\n",
              "  background-color: #6caed6;\n",
              "  color: #f1f1f1;\n",
              "}\n",
              "#T_caf19_row6_col4 {\n",
              "  background-color: #3080bd;\n",
              "  color: #f1f1f1;\n",
              "}\n",
              "#T_caf19_row6_col5, #T_caf19_row6_col8 {\n",
              "  background-color: #4997c9;\n",
              "  color: #f1f1f1;\n",
              "}\n",
              "#T_caf19_row6_col9 {\n",
              "  background-color: #a1cbe2;\n",
              "  color: #000000;\n",
              "}\n",
              "#T_caf19_row6_col10, #T_caf19_row10_col6 {\n",
              "  background-color: #0f5aa3;\n",
              "  color: #f1f1f1;\n",
              "}\n",
              "#T_caf19_row7_col0 {\n",
              "  background-color: #f1f7fd;\n",
              "  color: #000000;\n",
              "}\n",
              "#T_caf19_row7_col1 {\n",
              "  background-color: #529dcc;\n",
              "  color: #f1f1f1;\n",
              "}\n",
              "#T_caf19_row7_col3 {\n",
              "  background-color: #2272b6;\n",
              "  color: #f1f1f1;\n",
              "}\n",
              "#T_caf19_row7_col5 {\n",
              "  background-color: #3f8fc5;\n",
              "  color: #f1f1f1;\n",
              "}\n",
              "#T_caf19_row7_col6 {\n",
              "  background-color: #2c7cba;\n",
              "  color: #f1f1f1;\n",
              "}\n",
              "#T_caf19_row7_col8 {\n",
              "  background-color: #3383be;\n",
              "  color: #f1f1f1;\n",
              "}\n",
              "#T_caf19_row7_col9 {\n",
              "  background-color: #a0cbe2;\n",
              "  color: #000000;\n",
              "}\n",
              "#T_caf19_row7_col10 {\n",
              "  background-color: #1c6ab0;\n",
              "  color: #f1f1f1;\n",
              "}\n",
              "#T_caf19_row8_col1 {\n",
              "  background-color: #57a0ce;\n",
              "  color: #f1f1f1;\n",
              "}\n",
              "#T_caf19_row8_col7 {\n",
              "  background-color: #3282be;\n",
              "  color: #f1f1f1;\n",
              "}\n",
              "#T_caf19_row8_col9, #T_caf19_row9_col4 {\n",
              "  background-color: #7db8da;\n",
              "  color: #000000;\n",
              "}\n",
              "#T_caf19_row9_col0 {\n",
              "  background-color: #ecf4fb;\n",
              "  color: #000000;\n",
              "}\n",
              "#T_caf19_row9_col1, #T_caf19_row9_col7 {\n",
              "  background-color: #9ac8e0;\n",
              "  color: #000000;\n",
              "}\n",
              "#T_caf19_row9_col5 {\n",
              "  background-color: #69add5;\n",
              "  color: #f1f1f1;\n",
              "}\n",
              "#T_caf19_row9_col6 {\n",
              "  background-color: #94c4df;\n",
              "  color: #000000;\n",
              "}\n",
              "#T_caf19_row9_col10 {\n",
              "  background-color: #79b5d9;\n",
              "  color: #000000;\n",
              "}\n",
              "#T_caf19_row10_col0 {\n",
              "  background-color: #f5f9fe;\n",
              "  color: #000000;\n",
              "}\n",
              "#T_caf19_row10_col2 {\n",
              "  background-color: #125da6;\n",
              "  color: #f1f1f1;\n",
              "}\n",
              "#T_caf19_row10_col3 {\n",
              "  background-color: #115ca5;\n",
              "  color: #f1f1f1;\n",
              "}\n",
              "#T_caf19_row10_col9 {\n",
              "  background-color: #82bbdb;\n",
              "  color: #000000;\n",
              "}\n",
              "</style>\n",
              "<table id=\"T_caf19_\" class=\"dataframe\">\n",
              "  <thead>\n",
              "    <tr>\n",
              "      <th class=\"blank level0\" >&nbsp;</th>\n",
              "      <th class=\"col_heading level0 col0\" >0</th>\n",
              "      <th class=\"col_heading level0 col1\" >1</th>\n",
              "      <th class=\"col_heading level0 col2\" >2</th>\n",
              "      <th class=\"col_heading level0 col3\" >3</th>\n",
              "      <th class=\"col_heading level0 col4\" >4</th>\n",
              "      <th class=\"col_heading level0 col5\" >5</th>\n",
              "      <th class=\"col_heading level0 col6\" >6</th>\n",
              "      <th class=\"col_heading level0 col7\" >7</th>\n",
              "      <th class=\"col_heading level0 col8\" >8</th>\n",
              "      <th class=\"col_heading level0 col9\" >9</th>\n",
              "      <th class=\"col_heading level0 col10\" >10</th>\n",
              "    </tr>\n",
              "  </thead>\n",
              "  <tbody>\n",
              "    <tr>\n",
              "      <th id=\"T_caf19_level0_row0\" class=\"row_heading level0 row0\" >0</th>\n",
              "      <td id=\"T_caf19_row0_col0\" class=\"data row0 col0\" >1.000000</td>\n",
              "      <td id=\"T_caf19_row0_col1\" class=\"data row0 col1\" >-0.056350</td>\n",
              "      <td id=\"T_caf19_row0_col2\" class=\"data row0 col2\" >-0.041396</td>\n",
              "      <td id=\"T_caf19_row0_col3\" class=\"data row0 col3\" >-0.042221</td>\n",
              "      <td id=\"T_caf19_row0_col4\" class=\"data row0 col4\" >-0.069630</td>\n",
              "      <td id=\"T_caf19_row0_col5\" class=\"data row0 col5\" >-0.048644</td>\n",
              "      <td id=\"T_caf19_row0_col6\" class=\"data row0 col6\" >-0.099248</td>\n",
              "      <td id=\"T_caf19_row0_col7\" class=\"data row0 col7\" >-0.061966</td>\n",
              "      <td id=\"T_caf19_row0_col8\" class=\"data row0 col8\" >-0.050699</td>\n",
              "      <td id=\"T_caf19_row0_col9\" class=\"data row0 col9\" >-0.037972</td>\n",
              "      <td id=\"T_caf19_row0_col10\" class=\"data row0 col10\" >-0.084701</td>\n",
              "    </tr>\n",
              "    <tr>\n",
              "      <th id=\"T_caf19_level0_row1\" class=\"row_heading level0 row1\" >1</th>\n",
              "      <td id=\"T_caf19_row1_col0\" class=\"data row1 col0\" >-0.056350</td>\n",
              "      <td id=\"T_caf19_row1_col1\" class=\"data row1 col1\" >1.000000</td>\n",
              "      <td id=\"T_caf19_row1_col2\" class=\"data row1 col2\" >0.642481</td>\n",
              "      <td id=\"T_caf19_row1_col3\" class=\"data row1 col3\" >0.653470</td>\n",
              "      <td id=\"T_caf19_row1_col4\" class=\"data row1 col4\" >0.487829</td>\n",
              "      <td id=\"T_caf19_row1_col5\" class=\"data row1 col5\" >0.523596</td>\n",
              "      <td id=\"T_caf19_row1_col6\" class=\"data row1 col6\" >0.593091</td>\n",
              "      <td id=\"T_caf19_row1_col7\" class=\"data row1 col7\" >0.553742</td>\n",
              "      <td id=\"T_caf19_row1_col8\" class=\"data row1 col8\" >0.534066</td>\n",
              "      <td id=\"T_caf19_row1_col9\" class=\"data row1 col9\" >0.350957</td>\n",
              "      <td id=\"T_caf19_row1_col10\" class=\"data row1 col10\" >0.714790</td>\n",
              "    </tr>\n",
              "    <tr>\n",
              "      <th id=\"T_caf19_level0_row2\" class=\"row_heading level0 row2\" >2</th>\n",
              "      <td id=\"T_caf19_row2_col0\" class=\"data row2 col0\" >-0.041396</td>\n",
              "      <td id=\"T_caf19_row2_col1\" class=\"data row2 col1\" >0.642481</td>\n",
              "      <td id=\"T_caf19_row2_col2\" class=\"data row2 col2\" >1.000000</td>\n",
              "      <td id=\"T_caf19_row2_col3\" class=\"data row2 col3\" >0.907228</td>\n",
              "      <td id=\"T_caf19_row2_col4\" class=\"data row2 col4\" >0.706977</td>\n",
              "      <td id=\"T_caf19_row2_col5\" class=\"data row2 col5\" >0.753544</td>\n",
              "      <td id=\"T_caf19_row2_col6\" class=\"data row2 col6\" >0.691709</td>\n",
              "      <td id=\"T_caf19_row2_col7\" class=\"data row2 col7\" >0.755559</td>\n",
              "      <td id=\"T_caf19_row2_col8\" class=\"data row2 col8\" >0.719346</td>\n",
              "      <td id=\"T_caf19_row2_col9\" class=\"data row2 col9\" >0.460755</td>\n",
              "      <td id=\"T_caf19_row2_col10\" class=\"data row2 col10\" >0.820801</td>\n",
              "    </tr>\n",
              "    <tr>\n",
              "      <th id=\"T_caf19_level0_row3\" class=\"row_heading level0 row3\" >3</th>\n",
              "      <td id=\"T_caf19_row3_col0\" class=\"data row3 col0\" >-0.042221</td>\n",
              "      <td id=\"T_caf19_row3_col1\" class=\"data row3 col1\" >0.653470</td>\n",
              "      <td id=\"T_caf19_row3_col2\" class=\"data row3 col2\" >0.907228</td>\n",
              "      <td id=\"T_caf19_row3_col3\" class=\"data row3 col3\" >1.000000</td>\n",
              "      <td id=\"T_caf19_row3_col4\" class=\"data row3 col4\" >0.685948</td>\n",
              "      <td id=\"T_caf19_row3_col5\" class=\"data row3 col5\" >0.722462</td>\n",
              "      <td id=\"T_caf19_row3_col6\" class=\"data row3 col6\" >0.713878</td>\n",
              "      <td id=\"T_caf19_row3_col7\" class=\"data row3 col7\" >0.735344</td>\n",
              "      <td id=\"T_caf19_row3_col8\" class=\"data row3 col8\" >0.717963</td>\n",
              "      <td id=\"T_caf19_row3_col9\" class=\"data row3 col9\" >0.441258</td>\n",
              "      <td id=\"T_caf19_row3_col10\" class=\"data row3 col10\" >0.821891</td>\n",
              "    </tr>\n",
              "    <tr>\n",
              "      <th id=\"T_caf19_level0_row4\" class=\"row_heading level0 row4\" >4</th>\n",
              "      <td id=\"T_caf19_row4_col0\" class=\"data row4 col0\" >-0.069630</td>\n",
              "      <td id=\"T_caf19_row4_col1\" class=\"data row4 col1\" >0.487829</td>\n",
              "      <td id=\"T_caf19_row4_col2\" class=\"data row4 col2\" >0.706977</td>\n",
              "      <td id=\"T_caf19_row4_col3\" class=\"data row4 col3\" >0.685948</td>\n",
              "      <td id=\"T_caf19_row4_col4\" class=\"data row4 col4\" >1.000000</td>\n",
              "      <td id=\"T_caf19_row4_col5\" class=\"data row4 col5\" >0.594548</td>\n",
              "      <td id=\"T_caf19_row4_col6\" class=\"data row4 col6\" >0.670648</td>\n",
              "      <td id=\"T_caf19_row4_col7\" class=\"data row4 col7\" >0.668567</td>\n",
              "      <td id=\"T_caf19_row4_col8\" class=\"data row4 col8\" >0.603121</td>\n",
              "      <td id=\"T_caf19_row4_col9\" class=\"data row4 col9\" >0.418898</td>\n",
              "      <td id=\"T_caf19_row4_col10\" class=\"data row4 col10\" >0.706294</td>\n",
              "    </tr>\n",
              "    <tr>\n",
              "      <th id=\"T_caf19_level0_row5\" class=\"row_heading level0 row5\" >5</th>\n",
              "      <td id=\"T_caf19_row5_col0\" class=\"data row5 col0\" >-0.048644</td>\n",
              "      <td id=\"T_caf19_row5_col1\" class=\"data row5 col1\" >0.523596</td>\n",
              "      <td id=\"T_caf19_row5_col2\" class=\"data row5 col2\" >0.753544</td>\n",
              "      <td id=\"T_caf19_row5_col3\" class=\"data row5 col3\" >0.722462</td>\n",
              "      <td id=\"T_caf19_row5_col4\" class=\"data row5 col4\" >0.594548</td>\n",
              "      <td id=\"T_caf19_row5_col5\" class=\"data row5 col5\" >1.000000</td>\n",
              "      <td id=\"T_caf19_row5_col6\" class=\"data row5 col6\" >0.585716</td>\n",
              "      <td id=\"T_caf19_row5_col7\" class=\"data row5 col7\" >0.618128</td>\n",
              "      <td id=\"T_caf19_row5_col8\" class=\"data row5 col8\" >0.628926</td>\n",
              "      <td id=\"T_caf19_row5_col9\" class=\"data row5 col9\" >0.480583</td>\n",
              "      <td id=\"T_caf19_row5_col10\" class=\"data row5 col10\" >0.690958</td>\n",
              "    </tr>\n",
              "    <tr>\n",
              "      <th id=\"T_caf19_level0_row6\" class=\"row_heading level0 row6\" >6</th>\n",
              "      <td id=\"T_caf19_row6_col0\" class=\"data row6 col0\" >-0.099248</td>\n",
              "      <td id=\"T_caf19_row6_col1\" class=\"data row6 col1\" >0.593091</td>\n",
              "      <td id=\"T_caf19_row6_col2\" class=\"data row6 col2\" >0.691709</td>\n",
              "      <td id=\"T_caf19_row6_col3\" class=\"data row6 col3\" >0.713878</td>\n",
              "      <td id=\"T_caf19_row6_col4\" class=\"data row6 col4\" >0.670648</td>\n",
              "      <td id=\"T_caf19_row6_col5\" class=\"data row6 col5\" >0.585716</td>\n",
              "      <td id=\"T_caf19_row6_col6\" class=\"data row6 col6\" >1.000000</td>\n",
              "      <td id=\"T_caf19_row6_col7\" class=\"data row6 col7\" >0.680615</td>\n",
              "      <td id=\"T_caf19_row6_col8\" class=\"data row6 col8\" >0.584280</td>\n",
              "      <td id=\"T_caf19_row6_col9\" class=\"data row6 col9\" >0.339210</td>\n",
              "      <td id=\"T_caf19_row6_col10\" class=\"data row6 col10\" >0.822696</td>\n",
              "    </tr>\n",
              "    <tr>\n",
              "      <th id=\"T_caf19_level0_row7\" class=\"row_heading level0 row7\" >7</th>\n",
              "      <td id=\"T_caf19_row7_col0\" class=\"data row7 col0\" >-0.061966</td>\n",
              "      <td id=\"T_caf19_row7_col1\" class=\"data row7 col1\" >0.553742</td>\n",
              "      <td id=\"T_caf19_row7_col2\" class=\"data row7 col2\" >0.755559</td>\n",
              "      <td id=\"T_caf19_row7_col3\" class=\"data row7 col3\" >0.735344</td>\n",
              "      <td id=\"T_caf19_row7_col4\" class=\"data row7 col4\" >0.668567</td>\n",
              "      <td id=\"T_caf19_row7_col5\" class=\"data row7 col5\" >0.618128</td>\n",
              "      <td id=\"T_caf19_row7_col6\" class=\"data row7 col6\" >0.680615</td>\n",
              "      <td id=\"T_caf19_row7_col7\" class=\"data row7 col7\" >1.000000</td>\n",
              "      <td id=\"T_caf19_row7_col8\" class=\"data row7 col8\" >0.665602</td>\n",
              "      <td id=\"T_caf19_row7_col9\" class=\"data row7 col9\" >0.346011</td>\n",
              "      <td id=\"T_caf19_row7_col10\" class=\"data row7 col10\" >0.758228</td>\n",
              "    </tr>\n",
              "    <tr>\n",
              "      <th id=\"T_caf19_level0_row8\" class=\"row_heading level0 row8\" >8</th>\n",
              "      <td id=\"T_caf19_row8_col0\" class=\"data row8 col0\" >-0.050699</td>\n",
              "      <td id=\"T_caf19_row8_col1\" class=\"data row8 col1\" >0.534066</td>\n",
              "      <td id=\"T_caf19_row8_col2\" class=\"data row8 col2\" >0.719346</td>\n",
              "      <td id=\"T_caf19_row8_col3\" class=\"data row8 col3\" >0.717963</td>\n",
              "      <td id=\"T_caf19_row8_col4\" class=\"data row8 col4\" >0.603121</td>\n",
              "      <td id=\"T_caf19_row8_col5\" class=\"data row8 col5\" >0.628926</td>\n",
              "      <td id=\"T_caf19_row8_col6\" class=\"data row8 col6\" >0.584280</td>\n",
              "      <td id=\"T_caf19_row8_col7\" class=\"data row8 col7\" >0.665602</td>\n",
              "      <td id=\"T_caf19_row8_col8\" class=\"data row8 col8\" >1.000000</td>\n",
              "      <td id=\"T_caf19_row8_col9\" class=\"data row8 col9\" >0.433757</td>\n",
              "      <td id=\"T_caf19_row8_col10\" class=\"data row8 col10\" >0.718677</td>\n",
              "    </tr>\n",
              "    <tr>\n",
              "      <th id=\"T_caf19_level0_row9\" class=\"row_heading level0 row9\" >9</th>\n",
              "      <td id=\"T_caf19_row9_col0\" class=\"data row9 col0\" >-0.037972</td>\n",
              "      <td id=\"T_caf19_row9_col1\" class=\"data row9 col1\" >0.350957</td>\n",
              "      <td id=\"T_caf19_row9_col2\" class=\"data row9 col2\" >0.460755</td>\n",
              "      <td id=\"T_caf19_row9_col3\" class=\"data row9 col3\" >0.441258</td>\n",
              "      <td id=\"T_caf19_row9_col4\" class=\"data row9 col4\" >0.418898</td>\n",
              "      <td id=\"T_caf19_row9_col5\" class=\"data row9 col5\" >0.480583</td>\n",
              "      <td id=\"T_caf19_row9_col6\" class=\"data row9 col6\" >0.339210</td>\n",
              "      <td id=\"T_caf19_row9_col7\" class=\"data row9 col7\" >0.346011</td>\n",
              "      <td id=\"T_caf19_row9_col8\" class=\"data row9 col8\" >0.433757</td>\n",
              "      <td id=\"T_caf19_row9_col9\" class=\"data row9 col9\" >1.000000</td>\n",
              "      <td id=\"T_caf19_row9_col10\" class=\"data row9 col10\" >0.423448</td>\n",
              "    </tr>\n",
              "    <tr>\n",
              "      <th id=\"T_caf19_level0_row10\" class=\"row_heading level0 row10\" >10</th>\n",
              "      <td id=\"T_caf19_row10_col0\" class=\"data row10 col0\" >-0.084701</td>\n",
              "      <td id=\"T_caf19_row10_col1\" class=\"data row10 col1\" >0.714790</td>\n",
              "      <td id=\"T_caf19_row10_col2\" class=\"data row10 col2\" >0.820801</td>\n",
              "      <td id=\"T_caf19_row10_col3\" class=\"data row10 col3\" >0.821891</td>\n",
              "      <td id=\"T_caf19_row10_col4\" class=\"data row10 col4\" >0.706294</td>\n",
              "      <td id=\"T_caf19_row10_col5\" class=\"data row10 col5\" >0.690958</td>\n",
              "      <td id=\"T_caf19_row10_col6\" class=\"data row10 col6\" >0.822696</td>\n",
              "      <td id=\"T_caf19_row10_col7\" class=\"data row10 col7\" >0.758228</td>\n",
              "      <td id=\"T_caf19_row10_col8\" class=\"data row10 col8\" >0.718677</td>\n",
              "      <td id=\"T_caf19_row10_col9\" class=\"data row10 col9\" >0.423448</td>\n",
              "      <td id=\"T_caf19_row10_col10\" class=\"data row10 col10\" >1.000000</td>\n",
              "    </tr>\n",
              "  </tbody>\n",
              "</table>\n"
            ]
          },
          "metadata": {},
          "execution_count": 16
        }
      ]
    },
    {
      "cell_type": "code",
      "source": [
        "# Dropping the column with less correlation\n",
        "df = df.drop(columns='9')"
      ],
      "metadata": {
        "id": "s4dUKa2Ye27S"
      },
      "execution_count": 17,
      "outputs": []
    },
    {
      "cell_type": "code",
      "source": [
        "df.head()"
      ],
      "metadata": {
        "colab": {
          "base_uri": "https://localhost:8080/",
          "height": 204
        },
        "id": "tNhplgdaoGiI",
        "outputId": "27d39fe9-9da7-4623-eae3-bd396c8626f6"
      },
      "execution_count": 18,
      "outputs": [
        {
          "output_type": "execute_result",
          "data": {
            "text/plain": [
              "         0  1  2  3  4  5   6  7  8  10\n",
              "0  1000025  5  1  1  1  2   1  3  1   2\n",
              "1  1002945  5  4  4  5  7  10  3  2   2\n",
              "2  1015425  3  1  1  1  2   2  3  1   2\n",
              "3  1016277  6  8  8  1  3   4  3  7   2\n",
              "4  1017023  4  1  1  3  2   1  3  1   2"
            ],
            "text/html": [
              "\n",
              "  <div id=\"df-f65f8d5b-92bc-45c8-ad14-26aa42b70180\">\n",
              "    <div class=\"colab-df-container\">\n",
              "      <div>\n",
              "<style scoped>\n",
              "    .dataframe tbody tr th:only-of-type {\n",
              "        vertical-align: middle;\n",
              "    }\n",
              "\n",
              "    .dataframe tbody tr th {\n",
              "        vertical-align: top;\n",
              "    }\n",
              "\n",
              "    .dataframe thead th {\n",
              "        text-align: right;\n",
              "    }\n",
              "</style>\n",
              "<table border=\"1\" class=\"dataframe\">\n",
              "  <thead>\n",
              "    <tr style=\"text-align: right;\">\n",
              "      <th></th>\n",
              "      <th>0</th>\n",
              "      <th>1</th>\n",
              "      <th>2</th>\n",
              "      <th>3</th>\n",
              "      <th>4</th>\n",
              "      <th>5</th>\n",
              "      <th>6</th>\n",
              "      <th>7</th>\n",
              "      <th>8</th>\n",
              "      <th>10</th>\n",
              "    </tr>\n",
              "  </thead>\n",
              "  <tbody>\n",
              "    <tr>\n",
              "      <th>0</th>\n",
              "      <td>1000025</td>\n",
              "      <td>5</td>\n",
              "      <td>1</td>\n",
              "      <td>1</td>\n",
              "      <td>1</td>\n",
              "      <td>2</td>\n",
              "      <td>1</td>\n",
              "      <td>3</td>\n",
              "      <td>1</td>\n",
              "      <td>2</td>\n",
              "    </tr>\n",
              "    <tr>\n",
              "      <th>1</th>\n",
              "      <td>1002945</td>\n",
              "      <td>5</td>\n",
              "      <td>4</td>\n",
              "      <td>4</td>\n",
              "      <td>5</td>\n",
              "      <td>7</td>\n",
              "      <td>10</td>\n",
              "      <td>3</td>\n",
              "      <td>2</td>\n",
              "      <td>2</td>\n",
              "    </tr>\n",
              "    <tr>\n",
              "      <th>2</th>\n",
              "      <td>1015425</td>\n",
              "      <td>3</td>\n",
              "      <td>1</td>\n",
              "      <td>1</td>\n",
              "      <td>1</td>\n",
              "      <td>2</td>\n",
              "      <td>2</td>\n",
              "      <td>3</td>\n",
              "      <td>1</td>\n",
              "      <td>2</td>\n",
              "    </tr>\n",
              "    <tr>\n",
              "      <th>3</th>\n",
              "      <td>1016277</td>\n",
              "      <td>6</td>\n",
              "      <td>8</td>\n",
              "      <td>8</td>\n",
              "      <td>1</td>\n",
              "      <td>3</td>\n",
              "      <td>4</td>\n",
              "      <td>3</td>\n",
              "      <td>7</td>\n",
              "      <td>2</td>\n",
              "    </tr>\n",
              "    <tr>\n",
              "      <th>4</th>\n",
              "      <td>1017023</td>\n",
              "      <td>4</td>\n",
              "      <td>1</td>\n",
              "      <td>1</td>\n",
              "      <td>3</td>\n",
              "      <td>2</td>\n",
              "      <td>1</td>\n",
              "      <td>3</td>\n",
              "      <td>1</td>\n",
              "      <td>2</td>\n",
              "    </tr>\n",
              "  </tbody>\n",
              "</table>\n",
              "</div>\n",
              "      <button class=\"colab-df-convert\" onclick=\"convertToInteractive('df-f65f8d5b-92bc-45c8-ad14-26aa42b70180')\"\n",
              "              title=\"Convert this dataframe to an interactive table.\"\n",
              "              style=\"display:none;\">\n",
              "        \n",
              "  <svg xmlns=\"http://www.w3.org/2000/svg\" height=\"24px\"viewBox=\"0 0 24 24\"\n",
              "       width=\"24px\">\n",
              "    <path d=\"M0 0h24v24H0V0z\" fill=\"none\"/>\n",
              "    <path d=\"M18.56 5.44l.94 2.06.94-2.06 2.06-.94-2.06-.94-.94-2.06-.94 2.06-2.06.94zm-11 1L8.5 8.5l.94-2.06 2.06-.94-2.06-.94L8.5 2.5l-.94 2.06-2.06.94zm10 10l.94 2.06.94-2.06 2.06-.94-2.06-.94-.94-2.06-.94 2.06-2.06.94z\"/><path d=\"M17.41 7.96l-1.37-1.37c-.4-.4-.92-.59-1.43-.59-.52 0-1.04.2-1.43.59L10.3 9.45l-7.72 7.72c-.78.78-.78 2.05 0 2.83L4 21.41c.39.39.9.59 1.41.59.51 0 1.02-.2 1.41-.59l7.78-7.78 2.81-2.81c.8-.78.8-2.07 0-2.86zM5.41 20L4 18.59l7.72-7.72 1.47 1.35L5.41 20z\"/>\n",
              "  </svg>\n",
              "      </button>\n",
              "      \n",
              "  <style>\n",
              "    .colab-df-container {\n",
              "      display:flex;\n",
              "      flex-wrap:wrap;\n",
              "      gap: 12px;\n",
              "    }\n",
              "\n",
              "    .colab-df-convert {\n",
              "      background-color: #E8F0FE;\n",
              "      border: none;\n",
              "      border-radius: 50%;\n",
              "      cursor: pointer;\n",
              "      display: none;\n",
              "      fill: #1967D2;\n",
              "      height: 32px;\n",
              "      padding: 0 0 0 0;\n",
              "      width: 32px;\n",
              "    }\n",
              "\n",
              "    .colab-df-convert:hover {\n",
              "      background-color: #E2EBFA;\n",
              "      box-shadow: 0px 1px 2px rgba(60, 64, 67, 0.3), 0px 1px 3px 1px rgba(60, 64, 67, 0.15);\n",
              "      fill: #174EA6;\n",
              "    }\n",
              "\n",
              "    [theme=dark] .colab-df-convert {\n",
              "      background-color: #3B4455;\n",
              "      fill: #D2E3FC;\n",
              "    }\n",
              "\n",
              "    [theme=dark] .colab-df-convert:hover {\n",
              "      background-color: #434B5C;\n",
              "      box-shadow: 0px 1px 3px 1px rgba(0, 0, 0, 0.15);\n",
              "      filter: drop-shadow(0px 1px 2px rgba(0, 0, 0, 0.3));\n",
              "      fill: #FFFFFF;\n",
              "    }\n",
              "  </style>\n",
              "\n",
              "      <script>\n",
              "        const buttonEl =\n",
              "          document.querySelector('#df-f65f8d5b-92bc-45c8-ad14-26aa42b70180 button.colab-df-convert');\n",
              "        buttonEl.style.display =\n",
              "          google.colab.kernel.accessAllowed ? 'block' : 'none';\n",
              "\n",
              "        async function convertToInteractive(key) {\n",
              "          const element = document.querySelector('#df-f65f8d5b-92bc-45c8-ad14-26aa42b70180');\n",
              "          const dataTable =\n",
              "            await google.colab.kernel.invokeFunction('convertToInteractive',\n",
              "                                                     [key], {});\n",
              "          if (!dataTable) return;\n",
              "\n",
              "          const docLinkHtml = 'Like what you see? Visit the ' +\n",
              "            '<a target=\"_blank\" href=https://colab.research.google.com/notebooks/data_table.ipynb>data table notebook</a>'\n",
              "            + ' to learn more about interactive tables.';\n",
              "          element.innerHTML = '';\n",
              "          dataTable['output_type'] = 'display_data';\n",
              "          await google.colab.output.renderOutput(dataTable, element);\n",
              "          const docLink = document.createElement('div');\n",
              "          docLink.innerHTML = docLinkHtml;\n",
              "          element.appendChild(docLink);\n",
              "        }\n",
              "      </script>\n",
              "    </div>\n",
              "  </div>\n",
              "  "
            ]
          },
          "metadata": {},
          "execution_count": 18
        }
      ]
    },
    {
      "cell_type": "code",
      "source": [
        "# Normalizing data into between 0 - 1\n",
        "def minmax_norm(df_input):\n",
        "  return (df - df.min()) / (df.max() - df.min())\n",
        "\n",
        "df_norm = minmax_norm(df)\n",
        "print(df_norm)"
      ],
      "metadata": {
        "colab": {
          "base_uri": "https://localhost:8080/"
        },
        "id": "uSgvZFQmwdfJ",
        "outputId": "b6fdbab6-8ab0-4501-9857-022b9a265f68"
      },
      "execution_count": 19,
      "outputs": [
        {
          "output_type": "stream",
          "name": "stdout",
          "text": [
            "            0         1         2         3         4         5         6  \\\n",
            "0    0.069946  0.444444  0.000000  0.000000  0.000000  0.111111  0.000000   \n",
            "1    0.070164  0.444444  0.333333  0.333333  0.444444  0.666667  1.000000   \n",
            "2    0.071096  0.222222  0.000000  0.000000  0.000000  0.111111  0.111111   \n",
            "3    0.071160  0.555556  0.777778  0.777778  0.000000  0.222222  0.333333   \n",
            "4    0.071216  0.333333  0.000000  0.000000  0.222222  0.111111  0.000000   \n",
            "..        ...       ...       ...       ...       ...       ...       ...   \n",
            "694  0.053270  0.222222  0.000000  0.000000  0.000000  0.222222  0.111111   \n",
            "695  0.058128  0.111111  0.000000  0.000000  0.000000  0.111111  0.000000   \n",
            "696  0.061642  0.444444  1.000000  1.000000  0.222222  0.666667  0.222222   \n",
            "697  0.062288  0.333333  0.777778  0.555556  0.333333  0.222222  0.333333   \n",
            "698  0.062288  0.333333  0.777778  0.777778  0.444444  0.333333  0.444444   \n",
            "\n",
            "            7         8   10  \n",
            "0    0.222222  0.000000  0.0  \n",
            "1    0.222222  0.111111  0.0  \n",
            "2    0.222222  0.000000  0.0  \n",
            "3    0.222222  0.666667  0.0  \n",
            "4    0.222222  0.000000  0.0  \n",
            "..        ...       ...  ...  \n",
            "694  0.000000  0.000000  0.0  \n",
            "695  0.000000  0.000000  0.0  \n",
            "696  0.777778  1.000000  1.0  \n",
            "697  1.000000  0.555556  1.0  \n",
            "698  1.000000  0.333333  1.0  \n",
            "\n",
            "[683 rows x 10 columns]\n"
          ]
        }
      ]
    },
    {
      "cell_type": "code",
      "source": [
        "X = df_norm[['1','2','3','4','5','6','7','8']]\n",
        "y = df_norm['10']"
      ],
      "metadata": {
        "id": "o5tIfWyYwF3A"
      },
      "execution_count": 20,
      "outputs": []
    },
    {
      "cell_type": "code",
      "source": [
        "# splitting the data into train and test dataset\n",
        "\n",
        "from sklearn.model_selection import train_test_split\n",
        "X_train, X_test, y_train, y_test = train_test_split(X, y, test_size=0.3, random_state=123)"
      ],
      "metadata": {
        "id": "qCD8rKGx0HtR"
      },
      "execution_count": 21,
      "outputs": []
    },
    {
      "cell_type": "code",
      "source": [
        "# PCA"
      ],
      "metadata": {
        "id": "au7hMIVD1uC9"
      },
      "execution_count": null,
      "outputs": []
    },
    {
      "cell_type": "code",
      "source": [
        "# Logistic Regression Model fitting\n",
        "from sklearn.linear_model import LogisticRegression\n",
        "\n",
        "model = LogisticRegression()\n",
        "model.fit(X_train, y_train)"
      ],
      "metadata": {
        "colab": {
          "base_uri": "https://localhost:8080/"
        },
        "id": "8KONbn511r9o",
        "outputId": "62722d45-12e7-439d-847d-cc85bfb986eb"
      },
      "execution_count": 22,
      "outputs": [
        {
          "output_type": "execute_result",
          "data": {
            "text/plain": [
              "LogisticRegression()"
            ]
          },
          "metadata": {},
          "execution_count": 22
        }
      ]
    },
    {
      "cell_type": "code",
      "source": [
        "# Accuracy for Naives Bayes Model\n",
        "score = model.score(X_test, y_test)\n",
        "print('Test Accuracy Score', score)"
      ],
      "metadata": {
        "id": "5AD-lX9I2ZXn",
        "colab": {
          "base_uri": "https://localhost:8080/"
        },
        "outputId": "62394671-2d76-4ed0-e97b-064c430aeabd"
      },
      "execution_count": 25,
      "outputs": [
        {
          "output_type": "stream",
          "name": "stdout",
          "text": [
            "Test Accuracy Score 0.975609756097561\n"
          ]
        }
      ]
    },
    {
      "cell_type": "code",
      "source": [
        "# Naives Bayes Model Fitting\n",
        "from sklearn.naive_bayes import GaussianNB\n",
        "\n",
        "model = GaussianNB()\n",
        "model.fit(X_train, y_train)"
      ],
      "metadata": {
        "colab": {
          "base_uri": "https://localhost:8080/"
        },
        "id": "DT7kF5BbBRms",
        "outputId": "30acdf5c-7028-4fa2-d42d-4c11216eb7cd"
      },
      "execution_count": 26,
      "outputs": [
        {
          "output_type": "execute_result",
          "data": {
            "text/plain": [
              "GaussianNB()"
            ]
          },
          "metadata": {},
          "execution_count": 26
        }
      ]
    },
    {
      "cell_type": "code",
      "source": [
        "# Accuracy for Naives Bayes Model\n",
        "score = model.score(X_test, y_test)\n",
        "print('Test Accuracy Score', score)"
      ],
      "metadata": {
        "colab": {
          "base_uri": "https://localhost:8080/"
        },
        "id": "px0cjxNlBrr3",
        "outputId": "33fc2ab7-cc49-4881-fc88-dd6dd17bbe0d"
      },
      "execution_count": 27,
      "outputs": [
        {
          "output_type": "stream",
          "name": "stdout",
          "text": [
            "Test Accuracy Score 0.9853658536585366\n"
          ]
        }
      ]
    },
    {
      "cell_type": "markdown",
      "source": [
        ""
      ],
      "metadata": {
        "id": "lhXXG5Bw0CRG"
      }
    }
  ]
}